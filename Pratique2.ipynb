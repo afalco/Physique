{
  "nbformat": 4,
  "nbformat_minor": 0,
  "metadata": {
    "colab": {
      "provenance": []
    },
    "kernelspec": {
      "name": "python3",
      "display_name": "Python 3"
    },
    "language_info": {
      "name": "python"
    }
  },
  "cells": [
    {
      "cell_type": "code",
      "execution_count": null,
      "metadata": {
        "colab": {
          "base_uri": "https://localhost:8080/"
        },
        "id": "81JOOFDoZffT",
        "outputId": "714a3a38-6111-48ab-a57a-80e133e99931"
      },
      "outputs": [
        {
          "output_type": "stream",
          "name": "stdout",
          "text": [
            "[ 4.15685425 -1.17157288]\n",
            "4.31879847336656\n",
            "4.31879847336656\n"
          ]
        }
      ],
      "source": [
        "import numpy as np\n",
        "import matplotlib.pyplot as plt\n",
        "a = np.array([2*np.sin(np.pi/4),-2*np.cos(np.pi/4)])\n",
        "b = np.array([0,-4])\n",
        "c = np.array([6*np.sin(np.pi/4),6*np.cos(np.pi/4)])\n",
        "d = np.array([-1.5,0])\n",
        "R = a+b+c+d\n",
        "print(R)\n",
        "print(np.sqrt(np.sum(R**2)))\n",
        "print(np.sqrt(R[0]*R[0]+R[1]*R[1]))"
      ]
    },
    {
      "cell_type": "code",
      "source": [],
      "metadata": {
        "id": "pWG3_n3MaDC9"
      },
      "execution_count": null,
      "outputs": []
    }
  ]
}